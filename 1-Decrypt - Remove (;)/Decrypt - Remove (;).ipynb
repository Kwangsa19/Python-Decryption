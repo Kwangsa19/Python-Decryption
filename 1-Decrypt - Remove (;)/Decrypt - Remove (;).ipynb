{
 "cells": [
  {
   "cell_type": "markdown",
   "id": "4e62f5d5-7951-404f-b5ef-b0f8bfb54f87",
   "metadata": {},
   "source": [
    "# Decryption - Remove \";\" from the ciphertext\n",
    "\n",
    "* The ciphertext should have \";\". For example: H;e;l;l;o; or J;k;r;o;w;l;i;n;g \n",
    "\n",
    "* The code will remove \";\". Using those two as examples, they would be \"Hello\" and \"Jkrowling\". \n"
   ]
  },
  {
   "cell_type": "code",
   "execution_count": 9,
   "id": "ea5e2dff-eb63-4d86-8004-3e618d6dbba7",
   "metadata": {},
   "outputs": [],
   "source": [
    "# replace \";\" with just empty string\n",
    "def decrypt_ciphertext(ciphertext):\n",
    "\tplaintext =ciphertext.replace (\";\", \"\")\n",
    "\n",
    "\treturn plaintext"
   ]
  },
  {
   "cell_type": "code",
   "execution_count": 10,
   "id": "76b6e494-f931-4c59-8c8d-e4630643d926",
   "metadata": {},
   "outputs": [],
   "source": [
    "# Enter the cipher text and choose \"y\" to proceed\n",
    "def run():\n",
    "\tciphertext = input(\"Enter the ciphertext: \")\n",
    "\tchoice = input(f\"Do you want to decrypt the following text {ciphertext}? Enter (y/n): \")\n",
    "\n",
    "\tif choice == 'y':\n",
    "\t\tplaintext = decrypt_ciphertext(ciphertext)\n",
    "\t\tprint(\"Successful\")\n",
    "\t\tprint(f\"Original Plaintext Message: {plaintext}\")\n",
    "\n",
    "\telse:\n",
    "\t\tprint(\"Goodbye\")"
   ]
  },
  {
   "cell_type": "code",
   "execution_count": 11,
   "id": "ee9c51ff-d589-4776-b27a-ff06b1314c17",
   "metadata": {},
   "outputs": [
    {
     "name": "stdin",
     "output_type": "stream",
     "text": [
      "Enter the ciphertext:  J;k;r;o;w;l;i;n;g \n",
      "Do you want to decrypt the following text J;k;r;o;w;l;i;n;g ? Enter (y/n):  y\n"
     ]
    },
    {
     "name": "stdout",
     "output_type": "stream",
     "text": [
      "Successful\n",
      "Original Plaintext Message: Jkrowling \n"
     ]
    }
   ],
   "source": [
    "# Run the code\n",
    "if __name__ == '__main__':\n",
    "\trun()"
   ]
  },
  {
   "cell_type": "code",
   "execution_count": null,
   "id": "3c8479ce-c87c-4673-bfaa-26510b29d4fe",
   "metadata": {},
   "outputs": [],
   "source": []
  }
 ],
 "metadata": {
  "kernelspec": {
   "display_name": "Python 3 (ipykernel)",
   "language": "python",
   "name": "python3"
  },
  "language_info": {
   "codemirror_mode": {
    "name": "ipython",
    "version": 3
   },
   "file_extension": ".py",
   "mimetype": "text/x-python",
   "name": "python",
   "nbconvert_exporter": "python",
   "pygments_lexer": "ipython3",
   "version": "3.12.1"
  }
 },
 "nbformat": 4,
 "nbformat_minor": 5
}
