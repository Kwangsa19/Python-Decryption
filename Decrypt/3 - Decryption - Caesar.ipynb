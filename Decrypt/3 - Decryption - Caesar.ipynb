{
 "cells": [
  {
   "cell_type": "markdown",
   "id": "57298431-1dcb-4ea0-8b11-6ebfbad59fee",
   "metadata": {},
   "source": [
    "# Decryption - Caesar"
   ]
  },
  {
   "cell_type": "code",
   "execution_count": 26,
   "id": "23a20c8a-95df-4606-b0ed-921cb6c68b6c",
   "metadata": {},
   "outputs": [],
   "source": [
    "import string"
   ]
  },
  {
   "cell_type": "code",
   "execution_count": 31,
   "id": "6fc1b5f3-bb10-4346-bd9e-9bb33395084d",
   "metadata": {},
   "outputs": [],
   "source": [
    "# decrypt the ciphertext\n",
    "def decrypt_text(Ciphertext, key):\n",
    "\tdecrypted_plaintext = ''\n",
    "\n",
    "    # Ciphertext uppercase, lowercase, and others\n",
    "\tfor c in Ciphertext:\n",
    "\t\tif c.isupper():\n",
    "\t\t\talphabet = string.ascii_uppercase\n",
    "\t\telif c.islower():\n",
    "\t\t\talphabet = string.ascii_lowercase\n",
    "\t\telse:\n",
    "\t\t\tdecrypted_plaintext += c\n",
    "\t\t\tcontinue\n",
    "\t\t# check position and shift them into 26 alphabet letters\n",
    "\t\tposition = alphabet.find(c)\n",
    "\t\tshifted_position = (position - int(key)) % 26\n",
    "\t\tplaintext_letter = alphabet[shifted_position]\n",
    "\t\tdecrypted_plaintext += plaintext_letter\n",
    "\treturn decrypted_plaintext"
   ]
  },
  {
   "cell_type": "code",
   "execution_count": 32,
   "id": "8020b7d5-afb3-4eb0-9a74-c27676676822",
   "metadata": {},
   "outputs": [],
   "source": [
    "def run():\n",
    "\tCiphertext = input(\"Enter the Caesar Ciphertext: \")\n",
    "\tkey = input(\"Enter the key: \")\n",
    "\tplaintext = decrypt_text(Ciphertext, key)\n",
    "\tprint(f\"The decrypted message is: {plaintext}\")\n",
    "\tpass"
   ]
  },
  {
   "cell_type": "code",
   "execution_count": 33,
   "id": "bb5fc1c0-0390-4874-906b-138c4150fe90",
   "metadata": {},
   "outputs": [
    {
     "name": "stdin",
     "output_type": "stream",
     "text": [
      "Enter the Caesar Ciphertext:  ABC\n",
      "Enter the key:  4\n"
     ]
    },
    {
     "name": "stdout",
     "output_type": "stream",
     "text": [
      "The decrypted message is: WXY\n"
     ]
    }
   ],
   "source": [
    "if __name__ == '__main__':\n",
    "    # Assuming the key is 4\n",
    "\t# 'ABC' -> 'WXY' \n",
    "\t# 'EFG' -> 'ABC'\n",
    " \trun()"
   ]
  }
 ],
 "metadata": {
  "kernelspec": {
   "display_name": "Python 3 (ipykernel)",
   "language": "python",
   "name": "python3"
  },
  "language_info": {
   "codemirror_mode": {
    "name": "ipython",
    "version": 3
   },
   "file_extension": ".py",
   "mimetype": "text/x-python",
   "name": "python",
   "nbconvert_exporter": "python",
   "pygments_lexer": "ipython3",
   "version": "3.12.1"
  }
 },
 "nbformat": 4,
 "nbformat_minor": 5
}
