{
 "cells": [
  {
   "cell_type": "markdown",
   "id": "cb5f2e85-e168-4f86-bb61-369e177f7875",
   "metadata": {},
   "source": [
    "# Decryption - Reverse "
   ]
  },
  {
   "cell_type": "code",
   "execution_count": 1,
   "id": "5e7cf05a-2629-4a32-8cf3-6f2ba58bb728",
   "metadata": {},
   "outputs": [],
   "source": [
    "# Return the plaintext\n",
    "def decrypt_text(ciphertext):\n",
    "\tplaintext = reverse_text(ciphertext)\n",
    "\treturn plaintext"
   ]
  },
  {
   "cell_type": "code",
   "execution_count": 8,
   "id": "42db0554-57f7-4d3e-943f-d8077bff681d",
   "metadata": {},
   "outputs": [],
   "source": [
    "# Reverse it for each alphabet \n",
    "def reverse_text(message):\n",
    "\treversed = ''\n",
    "\ti = len(message) - 1\n",
    "\twhile i >= 0:\n",
    "\t\treversed += message[i]\n",
    "\t\ti -= 1\n",
    "\treturn reversed"
   ]
  },
  {
   "cell_type": "code",
   "execution_count": 3,
   "id": "046df0d4-915b-4053-9f62-5f27c6a3ebb9",
   "metadata": {},
   "outputs": [],
   "source": [
    "# Prompt and print the decyrpt text in reverse \n",
    "def run():\n",
    "\tciphertext = input(\"Enter the text: \")\n",
    "\tchoice = input(\"Do you want to decrypt? (y/n): \")\n",
    "\tif choice == 'y':\n",
    "\t\tprint(decrypt_text(ciphertext))"
   ]
  },
  {
   "cell_type": "code",
   "execution_count": 7,
   "id": "9c93118b-eace-4a47-80d4-2110b053cabc",
   "metadata": {},
   "outputs": [
    {
     "name": "stdin",
     "output_type": "stream",
     "text": [
      "Enter the text:  Hello Alaska\n",
      "Do you want to decrypt? (y/n):  y\n"
     ]
    },
    {
     "name": "stdout",
     "output_type": "stream",
     "text": [
      "aksalA olleH\n"
     ]
    }
   ],
   "source": [
    "if __name__ == '__main__':\n",
    "\t# Transform \"Hello Alaska\" into aksalA olleH\n",
    "\t\trun()"
   ]
  },
  {
   "cell_type": "code",
   "execution_count": null,
   "id": "1fd265fa-57fb-4c72-b666-5990bd25df84",
   "metadata": {},
   "outputs": [],
   "source": []
  }
 ],
 "metadata": {
  "kernelspec": {
   "display_name": "Python 3 (ipykernel)",
   "language": "python",
   "name": "python3"
  },
  "language_info": {
   "codemirror_mode": {
    "name": "ipython",
    "version": 3
   },
   "file_extension": ".py",
   "mimetype": "text/x-python",
   "name": "python",
   "nbconvert_exporter": "python",
   "pygments_lexer": "ipython3",
   "version": "3.12.1"
  }
 },
 "nbformat": 4,
 "nbformat_minor": 5
}
