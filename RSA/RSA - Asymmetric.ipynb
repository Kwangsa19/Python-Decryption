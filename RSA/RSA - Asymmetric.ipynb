{
 "cells": [
  {
   "cell_type": "markdown",
   "id": "67da3112-96e8-4695-a4e3-1c68c5bd38d3",
   "metadata": {},
   "source": [
    "# RSA - Asymmetric \n"
   ]
  },
  {
   "cell_type": "code",
   "execution_count": 2,
   "id": "1d45aaa9-424e-4826-b57b-7d903a9ffcaa",
   "metadata": {},
   "outputs": [],
   "source": [
    "import rsa"
   ]
  },
  {
   "cell_type": "code",
   "execution_count": 3,
   "id": "371c0bf4-3ce3-442f-ac6a-69296786bc8e",
   "metadata": {},
   "outputs": [],
   "source": [
    "def load_private_key(private_key_location):\n",
    "\tprivate_key = None\n",
    "\twith open(private_key_location, \"rb\") as file:\n",
    "\t\tprivate_key = rsa.PrivateKey.load_pkcs1(\n",
    "\t\t\tfile.read(), format='PEM'\n",
    "\t\t)\n",
    "\treturn private_key"
   ]
  },
  {
   "cell_type": "code",
   "execution_count": 4,
   "id": "8bed1941-218b-4094-84b7-a375bd702eb4",
   "metadata": {},
   "outputs": [],
   "source": [
    "def rsa_decrypt(encrypted_data, private_key):\n",
    "\tdecrypted = rsa.decrypt(\n",
    "\t\tencrypted_data, private_key).decode('utf-8')\n",
    "\treturn decrypted"
   ]
  },
  {
   "cell_type": "code",
   "execution_count": 5,
   "id": "e2548cab-e800-43af-8a9b-5642caa59015",
   "metadata": {},
   "outputs": [],
   "source": [
    "def run():\n",
    "\tprivate_key_location = input(\"Enter the private key location: \")\n",
    "\tprivate_key = load_private_key(private_key_location)\n",
    "\tencrypted_file_location = input(\"Enter the location of the encrypted file: \")\n",
    "\twith open(encrypted_file_location, \"rb\") as file:\n",
    "\t\tencrypted_data = file.read()\n",
    "\t\tdecrypted_data = rsa_decrypt(\n",
    "\t\t\tencrypted_data, private_key\n",
    "\t\t)\n",
    "\tprint(f\"The decrypted message is: {decrypted_data}\")"
   ]
  },
  {
   "cell_type": "code",
   "execution_count": 7,
   "id": "0d00a556-dd1d-4e0b-a1f7-a7d908f087f3",
   "metadata": {},
   "outputs": [
    {
     "name": "stdin",
     "output_type": "stream",
     "text": [
      "Enter the private key location:  ./private.pem\n",
      "Enter the location of the encrypted file:  ./rsa_encrypted.txt\n"
     ]
    },
    {
     "name": "stdout",
     "output_type": "stream",
     "text": [
      "The decrypted message is: I loved this project :)\n"
     ]
    }
   ],
   "source": [
    "if __name__ == '__main__':\n",
    "\t# Transform \"Hello World!\" into !dlrW olleh\n",
    "\t\trun()"
   ]
  },
  {
   "cell_type": "code",
   "execution_count": null,
   "id": "1afadb07-b041-4dde-8a36-bf74e8220ece",
   "metadata": {},
   "outputs": [],
   "source": []
  }
 ],
 "metadata": {
  "kernelspec": {
   "display_name": "Python 3 (ipykernel)",
   "language": "python",
   "name": "python3"
  },
  "language_info": {
   "codemirror_mode": {
    "name": "ipython",
    "version": 3
   },
   "file_extension": ".py",
   "mimetype": "text/x-python",
   "name": "python",
   "nbconvert_exporter": "python",
   "pygments_lexer": "ipython3",
   "version": "3.12.1"
  }
 },
 "nbformat": 4,
 "nbformat_minor": 5
}
