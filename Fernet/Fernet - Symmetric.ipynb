{
 "cells": [
  {
   "cell_type": "markdown",
   "id": "ba027e58-c7d2-4707-98c6-e86c45e95207",
   "metadata": {},
   "source": [
    "# Fernet - Symmetric  "
   ]
  },
  {
   "cell_type": "code",
   "execution_count": 2,
   "id": "86a7692d-c063-4877-a3c9-8e4ed35048e9",
   "metadata": {},
   "outputs": [],
   "source": [
    "from cryptography.fernet import Fernet"
   ]
  },
  {
   "cell_type": "code",
   "execution_count": 3,
   "id": "87a5d49e-ed1e-4d81-b13f-5bb4398e25b0",
   "metadata": {},
   "outputs": [],
   "source": [
    "def load_key(key_location):\n",
    "\tkey = open(key_location, \"rb\").read()\n",
    "\n",
    "\treturn key"
   ]
  },
  {
   "cell_type": "code",
   "execution_count": 4,
   "id": "4877fb3c-4b69-46af-aab9-ad380be26324",
   "metadata": {},
   "outputs": [],
   "source": [
    "def decrypt_file(file_location, key):\n",
    "\tf = Fernet(key)\n",
    "\twith open(file_location, \"rb\") as file:\n",
    "\t\tencrypted_data = file.read()\n",
    "\tdecrypted_data = f.decrypt(encrypted_data)\n",
    "\n",
    "\twith open(\"./decrypted.txt\", \"wb\") as file:\n",
    "\t\tfile.write(decrypted_data)\n"
   ]
  },
  {
   "cell_type": "code",
   "execution_count": 5,
   "id": "426bb30a-4ddb-46b6-8266-65687610aff4",
   "metadata": {},
   "outputs": [],
   "source": [
    "def run():\n",
    "\tfile_location = input(\"Enter the location of the file: \")\n",
    "\tkey_location = input(\"Enter the location of the key: \")\n",
    "\tkey = load_key(key_location)\n",
    "\tdecrypt_file(file_location, key)"
   ]
  },
  {
   "cell_type": "code",
   "execution_count": 9,
   "id": "5b0cda73-694d-41a3-a4e3-2822b04c6223",
   "metadata": {},
   "outputs": [
    {
     "name": "stdin",
     "output_type": "stream",
     "text": [
      "Enter the location of the file:  ./encrypted.txt\n",
      "Enter the location of the key:  ./fernet.key\n"
     ]
    }
   ],
   "source": [
    "if __name__ == '__main__':\n",
    "\trun()"
   ]
  },
  {
   "cell_type": "code",
   "execution_count": null,
   "id": "79f1787b-c6e2-46c3-9792-5200f1a4ddf1",
   "metadata": {},
   "outputs": [],
   "source": []
  }
 ],
 "metadata": {
  "kernelspec": {
   "display_name": "Python 3 (ipykernel)",
   "language": "python",
   "name": "python3"
  },
  "language_info": {
   "codemirror_mode": {
    "name": "ipython",
    "version": 3
   },
   "file_extension": ".py",
   "mimetype": "text/x-python",
   "name": "python",
   "nbconvert_exporter": "python",
   "pygments_lexer": "ipython3",
   "version": "3.12.1"
  }
 },
 "nbformat": 4,
 "nbformat_minor": 5
}
